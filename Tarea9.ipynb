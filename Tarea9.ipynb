{
 "cells": [
  {
   "cell_type": "markdown",
   "id": "91422e94",
   "metadata": {},
   "source": [
    "# Escuela Politéncnica Nacioanl\n",
    "## [Tarea 09] Ejercicios Unidad 04-A-B | Eliminación gaussiana vs Gauss-Jordan\n",
    "## Métodos Numéricos\n",
    "## Jhonn Alexander Saeteros Laime"
   ]
  }
 ],
 "metadata": {
  "language_info": {
   "name": "python"
  }
 },
 "nbformat": 4,
 "nbformat_minor": 5
}
